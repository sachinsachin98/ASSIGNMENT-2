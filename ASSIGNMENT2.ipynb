{
 "cells": [
  {
   "cell_type": "markdown",
   "id": "d869369e-8915-4814-9eaf-20a614582d28",
   "metadata": {},
   "source": [
    "Q1.\n",
    "Comments in Python are the lines in the code that are ignored by the interpreter during the execution of the program. Comments enhance the readability of the code and help the programmers to understand the code very carefully. \n",
    "\n",
    "There are three types of comments in Python:\n",
    "\n",
    "Single line Comments eg.- #comment\n",
    "Multiline Comments eg.-#comment1\n",
    "                       #comment2\n",
    "Docstring Comments eg.- \"\"\"comment\"\"\""
   ]
  },
  {
   "cell_type": "code",
   "execution_count": 3,
   "id": "d57dcfcc-75f1-4e0b-8322-2c13b0a5c940",
   "metadata": {},
   "outputs": [],
   "source": [
    "#Q2\n",
    "#Python Variable is containers that store values.A variable is created the moment we first assign a value to it. A Python variable is a name given to a memory location. It is the basic unit of storage in a program.\n",
    "x = 10000\n",
    "y = \"string\"\n",
    "z = 1.23"
   ]
  },
  {
   "cell_type": "markdown",
   "id": "91b4b261-0cb1-4456-b0ae-9c76a30cca9b",
   "metadata": {},
   "source": [
    "Q3. Type conversion is the process of converting one data type to another. There can be two types of type conversion in Python –\n",
    "\n",
    "Implicit Type Conversion Explicit Type Conversion"
   ]
  },
  {
   "cell_type": "code",
   "execution_count": 4,
   "id": "6f20a6a5-8e95-46ad-9d4b-1acac1b0e177",
   "metadata": {},
   "outputs": [],
   "source": [
    "#implicit type conversion\n",
    "a = 69\n",
    "b = 6.9"
   ]
  },
  {
   "cell_type": "code",
   "execution_count": 5,
   "id": "fb98df30-0a0e-43e5-b908-79d2e7a62ec2",
   "metadata": {},
   "outputs": [
    {
     "data": {
      "text/plain": [
       "int"
      ]
     },
     "execution_count": 5,
     "metadata": {},
     "output_type": "execute_result"
    }
   ],
   "source": [
    "type(a)"
   ]
  },
  {
   "cell_type": "code",
   "execution_count": 6,
   "id": "e83283ed-156b-49d2-af60-cd63457a0f9a",
   "metadata": {},
   "outputs": [
    {
     "data": {
      "text/plain": [
       "float"
      ]
     },
     "execution_count": 6,
     "metadata": {},
     "output_type": "execute_result"
    }
   ],
   "source": [
    "type(b)"
   ]
  },
  {
   "cell_type": "code",
   "execution_count": 7,
   "id": "30bd633a-21b0-4db8-84a5-4d4ef8f57103",
   "metadata": {},
   "outputs": [],
   "source": [
    "c = a//b"
   ]
  },
  {
   "cell_type": "code",
   "execution_count": 8,
   "id": "bb216c39-1c94-4c62-9e17-77698cf89f76",
   "metadata": {},
   "outputs": [
    {
     "data": {
      "text/plain": [
       "float"
      ]
     },
     "execution_count": 8,
     "metadata": {},
     "output_type": "execute_result"
    }
   ],
   "source": [
    "#Python automatically converts c to int as it is a floor division\n",
    "type(c)"
   ]
  },
  {
   "cell_type": "code",
   "execution_count": 9,
   "id": "8831689d-9998-4335-87ad-0765d568c9e1",
   "metadata": {},
   "outputs": [],
   "source": [
    "#explicit type conversion\n",
    "a = 69"
   ]
  },
  {
   "cell_type": "code",
   "execution_count": 10,
   "id": "bb145e1e-5231-4520-9788-25ab0c3865a1",
   "metadata": {},
   "outputs": [],
   "source": [
    "b = str(type(a))"
   ]
  },
  {
   "cell_type": "code",
   "execution_count": 11,
   "id": "ac94dc96-d032-4c57-bddc-5d437e17af87",
   "metadata": {},
   "outputs": [
    {
     "data": {
      "text/plain": [
       "str"
      ]
     },
     "execution_count": 11,
     "metadata": {},
     "output_type": "execute_result"
    }
   ],
   "source": [
    "type(b)"
   ]
  },
  {
   "cell_type": "markdown",
   "id": "3248a348-978e-4436-bbf0-d8d05a477c89",
   "metadata": {},
   "source": [
    "Q4 \n",
    "step -1-Write a code in the IDE or text editor.save it in 'py' format \n",
    "step-2-Open the command prompt using windows CMD \n",
    "step-3-redirect to the directory where the file is saved e.g. assign folder \n",
    "step-4-Run python command. e.g. commandline.py"
   ]
  },
  {
   "cell_type": "code",
   "execution_count": 12,
   "id": "f080610f-ee26-4c6a-a2b5-077de19c4314",
   "metadata": {},
   "outputs": [],
   "source": [
    "#Q5\n",
    "my_list = [1, 2, 3, 4, 5]"
   ]
  },
  {
   "cell_type": "code",
   "execution_count": 13,
   "id": "ccea6c91-4817-4fac-abdd-9da4c00a5c6f",
   "metadata": {},
   "outputs": [
    {
     "data": {
      "text/plain": [
       "[2, 3]"
      ]
     },
     "execution_count": 13,
     "metadata": {},
     "output_type": "execute_result"
    }
   ],
   "source": [
    "my_list[1:3]"
   ]
  },
  {
   "cell_type": "code",
   "execution_count": 14,
   "id": "7b47505c-d11a-4066-8f91-17f39ed94a67",
   "metadata": {},
   "outputs": [],
   "source": [
    "#Q6. Complex Numbers are the numbers of the form (a + i b) where a & b are the real numbers and i is an imaginary unit called iota\n",
    "a = 2 + 3j"
   ]
  },
  {
   "cell_type": "code",
   "execution_count": 15,
   "id": "d861c816-db93-42b3-99a8-9c8253e823eb",
   "metadata": {},
   "outputs": [
    {
     "data": {
      "text/plain": [
       "complex"
      ]
     },
     "execution_count": 15,
     "metadata": {},
     "output_type": "execute_result"
    }
   ],
   "source": [
    "type(a)"
   ]
  },
  {
   "cell_type": "code",
   "execution_count": 16,
   "id": "5f8e98ef-9515-480a-aa63-f04a1698cd8e",
   "metadata": {},
   "outputs": [],
   "source": [
    "#Q7\n",
    "age = 25"
   ]
  },
  {
   "cell_type": "code",
   "execution_count": 18,
   "id": "0c24e736-4309-40f7-ac24-5241590f3c0a",
   "metadata": {},
   "outputs": [
    {
     "data": {
      "text/plain": [
       "int"
      ]
     },
     "execution_count": 18,
     "metadata": {},
     "output_type": "execute_result"
    }
   ],
   "source": [
    "type(age)"
   ]
  },
  {
   "cell_type": "code",
   "execution_count": 19,
   "id": "4ca4ea6d-fe5d-4bc4-81b3-91287e59a6e0",
   "metadata": {},
   "outputs": [],
   "source": [
    "#Q8\n",
    "price = 9.99"
   ]
  },
  {
   "cell_type": "code",
   "execution_count": 20,
   "id": "0904d32c-efde-4300-aefe-76b235660126",
   "metadata": {},
   "outputs": [
    {
     "data": {
      "text/plain": [
       "float"
      ]
     },
     "execution_count": 20,
     "metadata": {},
     "output_type": "execute_result"
    }
   ],
   "source": [
    "type(price)"
   ]
  },
  {
   "cell_type": "code",
   "execution_count": 26,
   "id": "df7fad47-6251-4280-9f2d-59fe057f7236",
   "metadata": {},
   "outputs": [],
   "source": [
    "#Q9\n",
    "name = \"sachin\""
   ]
  },
  {
   "cell_type": "code",
   "execution_count": 27,
   "id": "e8f17051-48ae-4f89-ba96-f10a36adfc61",
   "metadata": {},
   "outputs": [
    {
     "data": {
      "text/plain": [
       "'sachin'"
      ]
     },
     "execution_count": 27,
     "metadata": {},
     "output_type": "execute_result"
    }
   ],
   "source": [
    "name"
   ]
  },
  {
   "cell_type": "code",
   "execution_count": 21,
   "id": "542306d1-e62f-42dd-b49a-c985e8cb55ae",
   "metadata": {},
   "outputs": [],
   "source": [
    "#Q10\n",
    "v = \"Hello, World!\""
   ]
  },
  {
   "cell_type": "code",
   "execution_count": 22,
   "id": "a4d57506-3e2c-4620-9772-25adce2125f7",
   "metadata": {},
   "outputs": [
    {
     "data": {
      "text/plain": [
       "'World'"
      ]
     },
     "execution_count": 22,
     "metadata": {},
     "output_type": "execute_result"
    }
   ],
   "source": [
    "v[7:12]"
   ]
  },
  {
   "cell_type": "code",
   "execution_count": 31,
   "id": "1d39e194-6057-45d6-901f-f5fa88d74380",
   "metadata": {},
   "outputs": [
    {
     "name": "stdin",
     "output_type": "stream",
     "text": [
      "are you currently a student? no\n"
     ]
    },
    {
     "name": "stdout",
     "output_type": "stream",
     "text": [
      "not a student\n"
     ]
    }
   ],
   "source": [
    "#Q11\n",
    "is_student = input(\"are you currently a student?\")\n",
    "if is_student == 'yes':\n",
    "    print(\"currently a student\")\n",
    "else:\n",
    "    print(\"not a student\")\n"
   ]
  },
  {
   "cell_type": "code",
   "execution_count": null,
   "id": "a93f2b97-fc86-4551-a6b0-120b990b534e",
   "metadata": {},
   "outputs": [],
   "source": []
  }
 ],
 "metadata": {
  "kernelspec": {
   "display_name": "Python 3 (ipykernel)",
   "language": "python",
   "name": "python3"
  },
  "language_info": {
   "codemirror_mode": {
    "name": "ipython",
    "version": 3
   },
   "file_extension": ".py",
   "mimetype": "text/x-python",
   "name": "python",
   "nbconvert_exporter": "python",
   "pygments_lexer": "ipython3",
   "version": "3.10.8"
  }
 },
 "nbformat": 4,
 "nbformat_minor": 5
}
